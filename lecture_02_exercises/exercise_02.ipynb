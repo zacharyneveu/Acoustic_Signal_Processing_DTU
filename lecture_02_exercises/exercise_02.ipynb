{
 "cells": [
  {
   "cell_type": "markdown",
   "metadata": {},
   "source": [
    "# Lecture_02_Exercise_03.m"
   ]
  },
  {
   "cell_type": "code",
   "execution_count": null,
   "metadata": {},
   "outputs": [],
   "source": [
    "clear\n",
    "close all\n",
    "clc"
   ]
  },
  {
   "cell_type": "markdown",
   "metadata": {},
   "source": [
    " Install subfolders"
   ]
  },
  {
   "cell_type": "code",
   "execution_count": null,
   "metadata": {},
   "outputs": [],
   "source": [
    "addpath tools\n",
    "addpath signals"
   ]
  },
  {
   "cell_type": "markdown",
   "metadata": {},
   "source": [
    "## EXERCISE: STFT (LECTURE 02, SLIDE 46)\n",
    " \twrite a function stft.m \n",
    " \tinitialize user parameters (sampling frequency, STFT parameters ... etc)\n",
    " \tload a signal x (e.g. speech or a linear chirp signal)\n",
    " \tvisualize the STFT in dB for different window sizes\n",
    "## USER PARAMETERS\n",
    "\n",
    "\n",
    "## CREATE SIGNAL\n",
    "\n",
    "\n",
    "## STFT"
   ]
  },
  {
   "cell_type": "markdown",
   "metadata": {},
   "source": [
    "# Lecture_02_Exercise_01.m"
   ]
  },
  {
   "cell_type": "code",
   "execution_count": null,
   "metadata": {},
   "outputs": [],
   "source": [
    "clear\n",
    "close all\n",
    "clc"
   ]
  },
  {
   "cell_type": "markdown",
   "metadata": {},
   "source": [
    " Install subfolders"
   ]
  },
  {
   "cell_type": "code",
   "execution_count": null,
   "metadata": {},
   "outputs": [],
   "source": [
    "addpath tools"
   ]
  },
  {
   "cell_type": "markdown",
   "metadata": {},
   "source": [
    "## EXERCISE: DFT (LECTURE 02, SLIDE 17)\n",
    " \twrite a function dft.m \n",
    " \twrite a function idft.m \n",
    " \twrite a function genSin.m \n",
    " \tinitialize user parameters (e.g. sampling frequency, parameters of the\n",
    "   sinusoid ... etc)  \n",
    " \tcreate a sinusoid x with multiple frequency components\n",
    " \tcompute X = dft(x); and plot its magnitude spectrum in dB\n",
    " \tcompute y = idft(X); and calculate the RMS between the reconstructed\n",
    "   time domain y signal and the original input signal x\n",
    "## USER PARAMETERS\n",
    " \n",
    " \n",
    "## CREATE SIGNAL\n",
    " \n",
    " \n",
    "## FREQUENCY ANALYSIS\n",
    " \n",
    " \n",
    "## RECONSTRUCT TIME DOMAIN SIGNAL"
   ]
  },
  {
   "cell_type": "markdown",
   "metadata": {},
   "source": [
    "# Lecture_02_Exercise_02.m"
   ]
  },
  {
   "cell_type": "code",
   "execution_count": null,
   "metadata": {},
   "outputs": [],
   "source": [
    "clear\n",
    "close all\n",
    "clc"
   ]
  },
  {
   "cell_type": "markdown",
   "metadata": {},
   "source": [
    " Install subfolders"
   ]
  },
  {
   "cell_type": "code",
   "execution_count": null,
   "metadata": {},
   "outputs": [],
   "source": [
    "addpath tools"
   ]
  },
  {
   "cell_type": "markdown",
   "metadata": {},
   "source": [
    "## EXERCISE: FFT (LECTURE 02, SLIDE 39)\n",
    " \twrite a function dftRadix2.m \n",
    " \tinitialize user parameter N (e.g. N = 2^10)\n",
    " \tcreate a random sequence of N samples \n",
    " \tuse tic & toc commands to compare runtime of dft(x) and dftRadix2(x)\n",
    "## USER PARAMETERS\n",
    " \n",
    " \n",
    "## CREATE SIGNAL\n",
    " \n",
    " \n",
    "## COMPUTE DFT"
   ]
  }
 ],
 "metadata": {
  "kernelspec": {
   "display_name": "Matlab",
   "language": "matlab",
   "name": "matlab"
  },
  "language_info": {
   "name": ""
  }
 },
 "nbformat": 4,
 "nbformat_minor": 2
}
