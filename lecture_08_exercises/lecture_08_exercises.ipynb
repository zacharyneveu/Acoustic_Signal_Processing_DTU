{
 "cells": [
  {
   "cell_type": "markdown",
   "metadata": {},
   "source": [
    "# Exercises Week 8"
   ]
  },
  {
   "cell_type": "markdown",
   "metadata": {},
   "source": [
    "## Exercise 1/2"
   ]
  },
  {
   "cell_type": "code",
   "execution_count": null,
   "metadata": {},
   "outputs": [],
   "source": [
    "addpath tools\n",
    "addpath signals"
   ]
  },
  {
   "cell_type": "code",
   "execution_count": 159,
   "metadata": {},
   "outputs": [],
   "source": [
    "fs = 48000;\n",
    "len_sec = 10;\n",
    "test_sig = randn(fs*len_sec,1);"
   ]
  },
  {
   "cell_type": "code",
   "execution_count": 160,
   "metadata": {},
   "outputs": [],
   "source": [
    "boxed = blackBox(test_sig, fs, 'system_a');"
   ]
  },
  {
   "cell_type": "code",
   "execution_count": 199,
   "metadata": {},
   "outputs": [
    {
     "name": "stdout",
     "output_type": "stream",
     "text": [
      "\n",
      "wlen =\n",
      "\n",
      "       12000\n",
      "\n"
     ]
    }
   ],
   "source": [
    "wlen = round(0.250 * fs)\n",
    "hop_len = wlen;\n",
    "w = hanning(wlen);"
   ]
  },
  {
   "cell_type": "code",
   "execution_count": 200,
   "metadata": {},
   "outputs": [],
   "source": [
    "[H1, H2, C, f] = computeFRF(test_sig, boxed(1:size(test_sig,1)), fs, w, hop_len, wlen);"
   ]
  },
  {
   "cell_type": "code",
   "execution_count": 204,
   "metadata": {},
   "outputs": [],
   "source": [
    "plot(abs(H1), 'DisplayName', 'H1 Estimate')\n",
    "hold on\n",
    "plot(abs(H2), 'DisplayName', 'H2 Estimate')\n",
    "plot(coherence', 'DisplayName', 'Coherence')\n",
    "legend"
   ]
  },
  {
   "cell_type": "code",
   "execution_count": 189,
   "metadata": {},
   "outputs": [],
   "source": [
    "h1 = ifft(H1);\n",
    "h2 = ifft(H2);"
   ]
  },
  {
   "cell_type": "code",
   "execution_count": 190,
   "metadata": {},
   "outputs": [],
   "source": [
    "gtsig = zeros(size(h1,1),1);\n",
    "gtsig(1) = 1;\n",
    "gt = blackBox(gtsig, fs, 'system_a');"
   ]
  },
  {
   "cell_type": "code",
   "execution_count": 192,
   "metadata": {},
   "outputs": [],
   "source": [
    "figure\n",
    "title(\"Estimated Impulse Response vs. Ground Truth\")\n",
    "subplot(2,1,1)\n",
    "plot(flipud(h1), 'DisplayName', 'Estimated (h1)')\n",
    "hold on\n",
    "plot(flipud(h2), 'DisplayName', 'Estimated (h2)')\n",
    "legend\n",
    "subplot(2,1,2)\n",
    "plot(gt, 'DisplayName', 'Ground Truth')\n",
    "legend"
   ]
  },
  {
   "cell_type": "code",
   "execution_count": 134,
   "metadata": {},
   "outputs": [],
   "source": [
    "plot(coherence);"
   ]
  },
  {
   "cell_type": "markdown",
   "metadata": {},
   "source": [
    "## Exercise 3"
   ]
  },
  {
   "cell_type": "code",
   "execution_count": null,
   "metadata": {},
   "outputs": [],
   "source": []
  }
 ],
 "metadata": {
  "kernelspec": {
   "display_name": "MATLAB",
   "language": "matlab",
   "name": "imatlab"
  },
  "language_info": {
   "codemirror_mode": "octave",
   "file_extension": ".m",
   "mimetype": "text/x-matlab",
   "name": "matlab",
   "nbconvert_exporter": "imatlab._exporter.MatlabExporter",
   "pygments_lexer": "matlab",
   "version": "9.6.0.1072779 (R2019a)"
  },
  "widgets": {
   "application/vnd.jupyter.widget-state+json": {
    "state": {},
    "version_major": 2,
    "version_minor": 0
   }
  }
 },
 "nbformat": 4,
 "nbformat_minor": 4
}
