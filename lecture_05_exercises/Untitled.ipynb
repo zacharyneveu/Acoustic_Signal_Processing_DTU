{
 "cells": [
  {
   "cell_type": "markdown",
   "metadata": {},
   "source": [
    "# Lecture 5 Exercises"
   ]
  },
  {
   "cell_type": "markdown",
   "metadata": {},
   "source": [
    "## Question 1\n",
    "Already did in class"
   ]
  },
  {
   "cell_type": "markdown",
   "metadata": {},
   "source": [
    "## Question 2"
   ]
  },
  {
   "cell_type": "markdown",
   "metadata": {},
   "source": [
    "When n==m:  \n",
    "$$cos(nx) * cos(mx) = cos^2(nx) = 1/2cos(2x)+1/2$$\n",
    "$$1/2\\int_{-\\pi}^{\\pi}cos(2x)+1/2 dx \\ne 0$$"
   ]
  },
  {
   "cell_type": "markdown",
   "metadata": {},
   "source": [
    "When n!=m\n",
    "\n",
    "$$\\int_{-\\pi}^{\\pi}cos(x-\\phi)+cos(x+\\phi) dx= \n",
    "-sin(x-\\phi)-sin(x+\\phi) |_{-\\pi}^{\\pi}\n",
    "= $$"
   ]
  },
  {
   "cell_type": "code",
   "execution_count": 121,
   "metadata": {},
   "outputs": [
    {
     "data": {
      "image/png": "[encoded data removed]",
      "text/plain": [
       "<IPython.core.display.Image object>"
      ]
     },
     "metadata": {},
     "output_type": "display_data"
    }
   ],
   "source": [
    "plot(X, [cos(2*X); cos(X); cos(2*X).*cos(X)])"
   ]
  },
  {
   "cell_type": "code",
   "execution_count": 124,
   "metadata": {},
   "outputs": [
    {
     "name": "stdout",
     "output_type": "stream",
     "text": [
      "fun =\n",
      "\n",
      "@(x, n, m) cos (n * x) .* cos (m * x)\n",
      "\n"
     ]
    }
   ],
   "source": [
    "fun = @(x, n, m) cos(n*x).*cos(m*x)"
   ]
  },
  {
   "cell_type": "code",
   "execution_count": 127,
   "metadata": {},
   "outputs": [
    {
     "name": "stdout",
     "output_type": "stream",
     "text": [
      "ans =  3.1416\n"
     ]
    }
   ],
   "source": [
    "integral(@(x)fun(x,2,2), -pi, pi)"
   ]
  },
  {
   "cell_type": "markdown",
   "metadata": {},
   "source": [
    "## Question 3"
   ]
  },
  {
   "cell_type": "code",
   "execution_count": 31,
   "metadata": {},
   "outputs": [],
   "source": [
    "N = 20;"
   ]
  },
  {
   "cell_type": "code",
   "execution_count": 128,
   "metadata": {},
   "outputs": [],
   "source": [
    "series = 1:N;\n",
    "F = exp(1j*2*pi./N.*series'.*series);"
   ]
  },
  {
   "cell_type": "code",
   "execution_count": 132,
   "metadata": {},
   "outputs": [
    {
     "name": "stdout",
     "output_type": "stream",
     "text": [
      "x =\n",
      "\n",
      " Columns 1 through 6:\n",
      "\n",
      "   0.0000e+00   1.2246e-16  -2.4493e-16   3.6739e-16  -4.8986e-16   6.1232e-16\n",
      "\n",
      " Columns 7 through 12:\n",
      "\n",
      "  -7.3479e-16   8.5725e-16  -9.7972e-16   1.1022e-15  -1.2246e-15  -2.2056e-15\n",
      "\n",
      " Columns 13 through 18:\n",
      "\n",
      "  -1.4696e-15  -1.9607e-15  -1.7145e-15  -1.7157e-15  -1.9594e-15  -1.4708e-15\n",
      "\n",
      " Columns 19 and 20:\n",
      "\n",
      "  -2.2044e-15  -1.2259e-15\n",
      "\n"
     ]
    }
   ],
   "source": [
    "fs = 2*65;\n",
    "tmax = N/fs;\n",
    "x = sin(2*pi*65*(0:1/fs:tmax)(1:end-1))"
   ]
  },
  {
   "cell_type": "code",
   "execution_count": 133,
   "metadata": {},
   "outputs": [
    {
     "data": {
      "image/png": "[encoded data removed]",
      "text/plain": [
       "<IPython.core.display.Image object>"
      ]
     },
     "metadata": {},
     "output_type": "display_data"
    }
   ],
   "source": [
    "plot(x)"
   ]
  },
  {
   "cell_type": "code",
   "execution_count": 87,
   "metadata": {},
   "outputs": [],
   "source": [
    "pkg load control"
   ]
  },
  {
   "cell_type": "code",
   "execution_count": 97,
   "metadata": {},
   "outputs": [
    {
     "name": "stdout",
     "output_type": "stream",
     "text": [
      "ans =\n",
      "\n",
      " Columns 1 through 8:\n",
      "\n",
      "   1.00000  -0.00000  -0.00000  -0.00000  -0.00000   0.00000  -0.00000   0.00000\n",
      "  -0.00000   1.00000  -0.00000  -0.00000  -0.00000   0.00000   0.00000  -0.00000\n",
      "  -0.00000  -0.00000   1.00000   0.00000   0.00000   0.00000  -0.00000  -0.00000\n",
      "  -0.00000  -0.00000   0.00000   1.00000  -0.00000  -0.00000  -0.00000  -0.00000\n",
      "  -0.00000  -0.00000   0.00000  -0.00000   1.00000  -0.00000  -0.00000  -0.00000\n",
      "   0.00000   0.00000   0.00000  -0.00000  -0.00000   1.00000  -0.00000   0.00000\n",
      "  -0.00000   0.00000  -0.00000  -0.00000  -0.00000  -0.00000   1.00000   0.00000\n",
      "   0.00000  -0.00000  -0.00000  -0.00000  -0.00000   0.00000   0.00000   1.00000\n",
      "  -0.00000  -0.00000   0.00000  -0.00000   0.00000   0.00000   0.00000  -0.00000\n",
      "   0.00000  -0.00000  -0.00000  -0.00000  -0.00000  -0.00000   0.00000  -0.00000\n",
      "   0.00000  -0.00000   0.00000   0.00000  -0.00000   0.00000   0.00000  -0.00000\n",
      "   0.00000   0.00000  -0.00000  -0.00000   0.00000   0.00000   0.00000   0.00000\n",
      "   0.00000   0.00000   0.00000  -0.00000  -0.00000  -0.00000   0.00000  -0.00000\n",
      "  -0.00000  -0.00000  -0.00000   0.00000   0.00000   0.00000   0.00000   0.00000\n",
      "   0.00000   0.00000  -0.00000   0.00000   0.00000  -0.00000  -0.00000  -0.00000\n",
      "   0.00000   0.00000   0.00000  -0.00000  -0.00000   0.00000  -0.00000  -0.00000\n",
      "  -0.00000   0.00000   0.00000  -0.00000  -0.00000  -0.00000   0.00000  -0.00000\n",
      "  -0.00000   0.00000   0.00000  -0.00000   0.00000   0.00000  -0.00000   0.00000\n",
      "   0.00000  -0.00000   0.00000   0.00000   0.00000  -0.00000  -0.00000   0.00000\n",
      "   0.00000   0.00000   0.00000   0.00000   0.00000   0.00000   0.00000   0.00000\n",
      "\n",
      " Columns 9 through 16:\n",
      "\n",
      "  -0.00000   0.00000   0.00000   0.00000   0.00000  -0.00000   0.00000   0.00000\n",
      "  -0.00000  -0.00000  -0.00000   0.00000   0.00000  -0.00000   0.00000   0.00000\n",
      "   0.00000  -0.00000   0.00000  -0.00000   0.00000  -0.00000  -0.00000   0.00000\n",
      "  -0.00000  -0.00000   0.00000  -0.00000  -0.00000   0.00000   0.00000  -0.00000\n",
      "   0.00000  -0.00000  -0.00000   0.00000  -0.00000   0.00000   0.00000  -0.00000\n",
      "   0.00000  -0.00000   0.00000   0.00000  -0.00000   0.00000  -0.00000   0.00000\n",
      "   0.00000   0.00000   0.00000   0.00000   0.00000   0.00000  -0.00000  -0.00000\n",
      "  -0.00000  -0.00000  -0.00000   0.00000  -0.00000   0.00000  -0.00000  -0.00000\n",
      "   1.00000   0.00000  -0.00000  -0.00000   0.00000   0.00000  -0.00000   0.00000\n",
      "   0.00000   1.00000   0.00000  -0.00000   0.00000  -0.00000   0.00000  -0.00000\n",
      "  -0.00000   0.00000   1.00000  -0.00000   0.00000   0.00000  -0.00000  -0.00000\n",
      "  -0.00000  -0.00000  -0.00000   1.00000  -0.00000  -0.00000  -0.00000  -0.00000\n",
      "   0.00000   0.00000   0.00000  -0.00000   1.00000   0.00000  -0.00000  -0.00000\n",
      "   0.00000  -0.00000   0.00000  -0.00000   0.00000   1.00000   0.00000   0.00000\n",
      "  -0.00000   0.00000  -0.00000  -0.00000  -0.00000   0.00000   1.00000  -0.00000\n",
      "   0.00000  -0.00000  -0.00000  -0.00000  -0.00000   0.00000  -0.00000   1.00000\n",
      "   0.00000   0.00000   0.00000  -0.00000   0.00000   0.00000   0.00000  -0.00000\n",
      "   0.00000  -0.00000  -0.00000  -0.00000  -0.00000   0.00000   0.00000   0.00000\n",
      "   0.00000  -0.00000   0.00000   0.00000  -0.00000  -0.00000  -0.00000   0.00000\n",
      "   0.00000   0.00000   0.00000   0.00000   0.00000  -0.00000  -0.00000  -0.00000\n",
      "\n",
      " Columns 17 through 20:\n",
      "\n",
      "  -0.00000  -0.00000   0.00000   0.00000\n",
      "   0.00000   0.00000  -0.00000   0.00000\n",
      "   0.00000   0.00000   0.00000   0.00000\n",
      "  -0.00000  -0.00000   0.00000   0.00000\n",
      "  -0.00000   0.00000   0.00000   0.00000\n",
      "  -0.00000   0.00000  -0.00000   0.00000\n",
      "   0.00000  -0.00000  -0.00000   0.00000\n",
      "  -0.00000   0.00000   0.00000   0.00000\n",
      "   0.00000   0.00000   0.00000   0.00000\n",
      "   0.00000  -0.00000  -0.00000   0.00000\n",
      "   0.00000  -0.00000   0.00000   0.00000\n",
      "  -0.00000  -0.00000   0.00000   0.00000\n",
      "   0.00000  -0.00000  -0.00000   0.00000\n",
      "   0.00000   0.00000  -0.00000  -0.00000\n",
      "   0.00000   0.00000  -0.00000  -0.00000\n",
      "  -0.00000   0.00000   0.00000  -0.00000\n",
      "   1.00000   0.00000  -0.00000  -0.00000\n",
      "   0.00000   1.00000   0.00000  -0.00000\n",
      "  -0.00000   0.00000   1.00000  -0.00000\n",
      "  -0.00000  -0.00000  -0.00000   1.00000\n",
      "\n"
     ]
    }
   ],
   "source": [
    "real(F'*F / size(F, 1))"
   ]
  },
  {
   "cell_type": "markdown",
   "metadata": {},
   "source": [
    "### 3.3"
   ]
  },
  {
   "cell_type": "code",
   "execution_count": 1,
   "metadata": {},
   "outputs": [],
   "source": [
    "[x, fs] = audioread('Bass_C2.wav');"
   ]
  },
  {
   "cell_type": "code",
   "execution_count": 58,
   "metadata": {},
   "outputs": [],
   "source": [
    "N = 20;\n",
    "F = exp(1j*2*pi./N.*(1:N)'.*(1:N));\n",
    "F = F./max(F);"
   ]
  },
  {
   "cell_type": "code",
   "execution_count": 59,
   "metadata": {},
   "outputs": [],
   "source": [
    "plot(x(1:20))"
   ]
  },
  {
   "cell_type": "code",
   "execution_count": 60,
   "metadata": {},
   "outputs": [],
   "source": [
    "plot(abs(F'*x(1:20)'))"
   ]
  },
  {
   "cell_type": "code",
   "execution_count": 113,
   "metadata": {},
   "outputs": [
    {
     "name": "stdout",
     "output_type": "stream",
     "text": [
      "\n",
      "spec =\n",
      "\n",
      "  -0.0027 + 0.0005i\n",
      "  -0.0035 - 0.0091i\n",
      "   0.0123 - 0.0059i\n",
      "   0.0012 - 0.0023i\n",
      "  -0.0052 + 0.0035i\n",
      "  -0.0001 - 0.0001i\n",
      "   0.0010 - 0.0006i\n",
      "  -0.0002 - 0.0016i\n",
      "  -0.0015 + 0.0007i\n",
      "   0.0014 - 0.0000i\n",
      "  -0.0017 - 0.0002i\n",
      "  -0.0008 - 0.0014i\n",
      "   0.0006 - 0.0010i\n",
      "   0.0001 - 0.0001i\n",
      "  -0.0035 + 0.0052i\n",
      "   0.0004 - 0.0026i\n",
      "  -0.0134 + 0.0024i\n",
      "  -0.0082 + 0.0053i\n",
      "  -0.0004 - 0.0027i\n",
      "  -0.0996 + 0.0000i\n",
      "\n"
     ]
    }
   ],
   "source": [
    "spec = F'*x(1:20)'"
   ]
  },
  {
   "cell_type": "code",
   "execution_count": 114,
   "metadata": {},
   "outputs": [],
   "source": [
    "plot(abs(spec))"
   ]
  },
  {
   "cell_type": "code",
   "execution_count": 117,
   "metadata": {},
   "outputs": [],
   "source": [
    "smal_idx = abs(spec(:)) < mean(abs(spec));\n",
    "spec(smal_idx) = 0;"
   ]
  },
  {
   "cell_type": "code",
   "execution_count": 118,
   "metadata": {},
   "outputs": [],
   "source": [
    "plot(abs(spec))"
   ]
  },
  {
   "cell_type": "code",
   "execution_count": 119,
   "metadata": {},
   "outputs": [],
   "source": [
    "plot(abs(F*spec), 'DisplayName', 'Cleaned')\n",
    "hold on\n",
    "plot(abs(x(1:20)), 'DisplayName', 'original')\n",
    "legend"
   ]
  },
  {
   "cell_type": "code",
   "execution_count": 120,
   "metadata": {},
   "outputs": [],
   "source": [
    "plot(abs(spec))"
   ]
  },
  {
   "cell_type": "code",
   "execution_count": null,
   "metadata": {},
   "outputs": [],
   "source": []
  }
 ],
 "metadata": {
  "kernelspec": {
   "display_name": "MATLAB",
   "language": "matlab",
   "name": "imatlab"
  },
  "language_info": {
   "codemirror_mode": "octave",
   "file_extension": ".m",
   "mimetype": "text/x-matlab",
   "name": "matlab",
   "nbconvert_exporter": "imatlab._exporter.MatlabExporter",
   "pygments_lexer": "matlab",
   "version": "9.6.0.1072779 (R2019a)"
  },
  "widgets": {
   "application/vnd.jupyter.widget-state+json": {
    "state": {},
    "version_major": 2,
    "version_minor": 0
   }
  }
 },
 "nbformat": 4,
 "nbformat_minor": 4
}
