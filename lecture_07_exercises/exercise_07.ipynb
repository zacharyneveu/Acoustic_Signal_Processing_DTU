{
 "cells": [
  {
   "cell_type": "markdown",
   "metadata": {},
   "source": [
    "# Part 1: Visualization"
   ]
  },
  {
   "cell_type": "code",
   "execution_count": 1,
   "metadata": {},
   "outputs": [],
   "source": [
    "clear\n",
    "close all\n",
    "clc"
   ]
  },
  {
   "cell_type": "markdown",
   "metadata": {},
   "source": [
    " Install subfolders"
   ]
  },
  {
   "cell_type": "code",
   "execution_count": 2,
   "metadata": {},
   "outputs": [],
   "source": [
    "addpath tools"
   ]
  },
  {
   "cell_type": "markdown",
   "metadata": {},
   "source": [
    " EXERCISE: Frequency response of filters (LECTURE 07, SLIDE 18)\n",
    " \twrite a function calcFreqResponse.m \n",
    " \tcreate FIR and IIR moving average filter coefficients \n",
    " \tcalculate and visualize frequency response of FIR and IIR filter\n",
    " USER SETTINGS \n",
    " \n",
    " \n",
    " Sampling frequency in Hertz"
   ]
  },
  {
   "cell_type": "code",
   "execution_count": 3,
   "metadata": {},
   "outputs": [],
   "source": [
    "fs = 16E3;"
   ]
  },
  {
   "cell_type": "markdown",
   "metadata": {},
   "source": [
    " Length of moving average FIR filter"
   ]
  },
  {
   "cell_type": "code",
   "execution_count": 4,
   "metadata": {},
   "outputs": [],
   "source": [
    "L = 5;"
   ]
  },
  {
   "cell_type": "code",
   "execution_count": 7,
   "metadata": {},
   "outputs": [
    {
     "name": "stdout",
     "output_type": "stream",
     "text": [
      "\n",
      "FIR_Coeffs =\n",
      "\n",
      "    0.2000    0.2000    0.2000    0.2000    0.2000\n",
      "\n"
     ]
    }
   ],
   "source": [
    "FIR_Coeffs = ones(1,L).*1/L"
   ]
  },
  {
   "cell_type": "code",
   "execution_count": 124,
   "metadata": {},
   "outputs": [],
   "source": [
    "tau = L*1/fs;\n",
    "alpha = exp(-1/fs/tau);\n",
    "IIR_As = [1, -alpha];\n",
    "IIR_Bs = [1-alpha];"
   ]
  },
  {
   "cell_type": "code",
   "execution_count": 130,
   "metadata": {},
   "outputs": [],
   "source": [
    "[H_FIR, w_FIR] = calcFreqResponse(FIR_Coeffs, [1], 512);\n",
    "plot(w_FIR, abs(H_FIR), 'DisplayName', 'FIR Response')\n",
    "title('Amplitude Responses')\n",
    "hold on\n",
    "\n",
    "[H_IIR,w_IIR] = calcFreqResponse(IIR_Bs, IIR_As, 512);\n",
    "\n",
    "plot(w_IIR,abs(H_IIR), 'DisplayName', 'IIR Response (using Function)')\n",
    "legend('Location', 'north')"
   ]
  },
  {
   "cell_type": "code",
   "execution_count": 132,
   "metadata": {},
   "outputs": [],
   "source": [
    "plot(w_FIR, angle(H_FIR), 'DisplayName', 'FIR Phase')\n",
    "title('Phase Response')\n",
    "hold on\n",
    "plot(w_IIR, angle(H_IIR), 'DisplayName', 'FIR Phase')"
   ]
  },
  {
   "cell_type": "markdown",
   "metadata": {},
   "source": [
    "# Part 2: Biquads"
   ]
  },
  {
   "cell_type": "markdown",
   "metadata": {},
   "source": [
    "LP/HP"
   ]
  },
  {
   "cell_type": "code",
   "execution_count": 266,
   "metadata": {},
   "outputs": [
    {
     "name": "stdout",
     "output_type": "stream",
     "text": [
      "\n",
      "k =\n",
      "\n",
      "    1.4966\n",
      "\n",
      "\n",
      "q =\n",
      "\n",
      "    0.7071\n",
      "\n",
      "\n",
      "lp =\n",
      "\n",
      "    0.4182    0.8363    0.4182    0.4629    0.2097\n",
      "\n",
      "\n",
      "hp =\n",
      "\n",
      "    0.1867   -0.3734    0.1867    0.4629    0.2097\n",
      "\n"
     ]
    }
   ],
   "source": [
    "fc = 5000;\n",
    "k = tan(pi*fc/fs)\n",
    "q = 1/sqrt(2)\n",
    "denom = k^2*q+k+q;\n",
    "lp = [k^2*q 2*k^2*q k^2*q 2*q*(k^2-1) (k^2*q-k+q)]./denom\n",
    "hp = [q -2*q q 2*q*(k^2-1) k^2*q-k+q]./denom"
   ]
  },
  {
   "cell_type": "code",
   "execution_count": 267,
   "metadata": {},
   "outputs": [
    {
     "name": "stdout",
     "output_type": "stream",
     "text": [
      "Warning: Imaginary parts of complex X and/or Y arguments ignored\n"
     ]
    }
   ],
   "source": [
    "[H,w] = calcFreqResponse(lp(1:3), [1 lp(4:end)], 512);\n",
    "plot(w,H)"
   ]
  },
  {
   "cell_type": "markdown",
   "metadata": {},
   "source": [
    "BP/BR"
   ]
  },
  {
   "cell_type": "code",
   "execution_count": 259,
   "metadata": {},
   "outputs": [
    {
     "name": "stdout",
     "output_type": "stream",
     "text": [
      "\n",
      "k =\n",
      "\n",
      "    0.1989\n",
      "\n",
      "\n",
      "q =\n",
      "\n",
      "    0.6667\n",
      "\n",
      "\n",
      "bp =\n",
      "\n",
      "    0.2230         0   -0.2230   -1.4357    0.5540\n",
      "\n",
      "\n",
      "br =\n",
      "\n",
      "    0.7770   -1.4357    0.7770   -1.4357    0.5540\n",
      "\n"
     ]
    }
   ],
   "source": [
    "f1 = 500;\n",
    "f2 = 2000;\n",
    "k = tan(pi*sqrt(f1*f2)/fs)\n",
    "q = sqrt(f1*f2)/(f2-f1)\n",
    "denom = k^2*q+k+q;\n",
    "bp = [k 0 -k 2*q*(k^2-1) k^2*q-k+q]./denom\n",
    "br = [q*(1+k^2) 2*q*(k^2-1) q*(1+k^2) 2*q*(k^2-1) k^2*q-k+q]./denom"
   ]
  },
  {
   "cell_type": "code",
   "execution_count": 269,
   "metadata": {},
   "outputs": [],
   "source": [
    "[H_lp,w] = calcFreqResponse(lp(1:3), [1 lp(4:end)], 512);\n",
    "[H_hp,w] = calcFreqResponse(hp(1:3), [1 hp(4:end)], 512);\n",
    "[H_bp,w] = calcFreqResponse(bp(1:3), [1 bp(4:end)], 512);\n",
    "[H_br,w] = calcFreqResponse(br(1:3), [1 br(4:end)], 512);"
   ]
  },
  {
   "cell_type": "code",
   "execution_count": 271,
   "metadata": {},
   "outputs": [],
   "source": [
    "plot(w,abs(H_lp), 'DisplayName', 'LP')\n",
    "hold on\n",
    "plot(w,abs(H_hp), 'DisplayName', 'HP')\n",
    "plot(w,abs(H_bp), 'DisplayName', 'BP')\n",
    "plot(w,abs(H_br), 'DisplayName', 'BR')\n",
    "legend"
   ]
  },
  {
   "cell_type": "code",
   "execution_count": null,
   "metadata": {},
   "outputs": [],
   "source": []
  }
 ],
 "metadata": {
  "kernelspec": {
   "display_name": "MATLAB",
   "language": "matlab",
   "name": "imatlab"
  },
  "language_info": {
   "codemirror_mode": "octave",
   "file_extension": ".m",
   "mimetype": "text/x-matlab",
   "name": "matlab",
   "nbconvert_exporter": "imatlab._exporter.MatlabExporter",
   "pygments_lexer": "matlab",
   "version": "9.6.0.1072779 (R2019a)"
  },
  "widgets": {
   "application/vnd.jupyter.widget-state+json": {
    "state": {},
    "version_major": 2,
    "version_minor": 0
   }
  }
 },
 "nbformat": 4,
 "nbformat_minor": 4
}
