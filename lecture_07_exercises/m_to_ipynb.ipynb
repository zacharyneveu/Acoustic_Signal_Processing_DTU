{
 "cells": [
  {
   "cell_type": "code",
   "execution_count": 2,
   "metadata": {},
   "outputs": [],
   "source": [
    "import nbformat as nbf"
   ]
  },
  {
   "cell_type": "code",
   "execution_count": 3,
   "metadata": {},
   "outputs": [],
   "source": [
    "fs = [f'Lecture_07_Exercise_0{i}.m' for i in range(1,2)]"
   ]
  },
  {
   "cell_type": "code",
   "execution_count": 5,
   "metadata": {},
   "outputs": [],
   "source": [
    "of = \"exercise_07.ipynb\""
   ]
  },
  {
   "cell_type": "code",
   "execution_count": 6,
   "metadata": {},
   "outputs": [
    {
     "name": "stdout",
     "output_type": "stream",
     "text": [
      "skipping\n",
      "writing code cell: clear\n",
      "close all\n",
      "clc\n",
      "\n",
      "writing markdown cell:  Install subfolders\n",
      "\n",
      "skipping\n",
      "skipping\n",
      "writing code cell: addpath tools\n",
      "\n",
      "skipping\n",
      "skipping\n",
      "writing markdown cell:  EXERCISE: Frequency response of filters (LECTURE 07, SLIDE 18)\n",
      " \twrite a function calcFreqResponse.m \n",
      " \tcreate FIR and IIR moving average filter coefficients \n",
      " \tcalculate and visualize frequency response of FIR and IIR filter\n",
      " USER SETTINGS \n",
      " \n",
      " \n",
      " Sampling frequency in Hertz\n",
      "\n",
      "skipping\n",
      "writing code cell: fs = 16E3;\n",
      "\n",
      "writing markdown cell:  Length of moving average FIR filter\n",
      "\n",
      "skipping\n",
      "skipping\n",
      "writing code cell: L = 5;\n",
      "\n",
      "skipping\n",
      "skipping\n",
      "skipping\n",
      "skipping\n"
     ]
    }
   ],
   "source": [
    "nb = nbf.v4.new_notebook()\n",
    "for file in fs:\n",
    "    with open(file, encoding='latin1') as f:\n",
    "        lines = f.readlines()\n",
    "        lines = [l.encode('ascii', errors='ignore').decode() for l in lines]\n",
    "        last  = \"\"\n",
    "        current = \"\"\n",
    "        for line in lines:\n",
    "            line = line.strip(\"\\n\")\n",
    "            # print(f'\"{line}\"')\n",
    "            if line.startswith('%'):\n",
    "                if last == \"code\":\n",
    "                    print(f'writing code cell: {current}')\n",
    "                    nb['cells'].append(nbf.v4.new_code_cell(current.rstrip()))\n",
    "                    current = \"\"\n",
    "                current += line.strip(\"%\")+\"\\n\"\n",
    "                last = \"comment\"\n",
    "            elif line: # code cell\n",
    "                if last == \"comment\":\n",
    "                    print(f'writing markdown cell: {current}')\n",
    "                    nb['cells'].append(nbf.v4.new_markdown_cell(current.rstrip()))\n",
    "                    current = \"\"\n",
    "                current += line+\"\\n\"\n",
    "                last = \"code\"\n",
    "            else:\n",
    "                print(\"skipping\")\n",
    "                \n",
    "with open(of, 'w+') as outfile:\n",
    "    nbf.write(nb, outfile)"
   ]
  },
  {
   "cell_type": "code",
   "execution_count": 46,
   "metadata": {},
   "outputs": [],
   "source": []
  },
  {
   "cell_type": "code",
   "execution_count": null,
   "metadata": {},
   "outputs": [],
   "source": []
  }
 ],
 "metadata": {
  "kernelspec": {
   "display_name": "Python 3",
   "language": "python",
   "name": "python3"
  },
  "language_info": {
   "codemirror_mode": {
    "name": "ipython",
    "version": 3
   },
   "file_extension": ".py",
   "mimetype": "text/x-python",
   "name": "python",
   "nbconvert_exporter": "python",
   "pygments_lexer": "ipython3",
   "version": "3.7.1"
  },
  "widgets": {
   "application/vnd.jupyter.widget-state+json": {
    "state": {},
    "version_major": 2,
    "version_minor": 0
   }
  }
 },
 "nbformat": 4,
 "nbformat_minor": 4
}
