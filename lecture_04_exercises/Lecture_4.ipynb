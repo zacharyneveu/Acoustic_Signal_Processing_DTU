{
 "cells": [
  {
   "cell_type": "markdown",
   "metadata": {},
   "source": [
    "# Lecture_04_Task_2.m"
   ]
  },
  {
   "cell_type": "markdown",
   "metadata": {},
   "source": [
    " Clear stuff"
   ]
  },
  {
   "cell_type": "code",
   "execution_count": 1,
   "metadata": {},
   "outputs": [],
   "source": [
    "clear variables\n",
    "close all"
   ]
  },
  {
   "cell_type": "markdown",
   "metadata": {},
   "source": [
    " Install subfolders"
   ]
  },
  {
   "cell_type": "code",
   "execution_count": 2,
   "metadata": {},
   "outputs": [],
   "source": [
    "addpath tools"
   ]
  },
  {
   "cell_type": "markdown",
   "metadata": {},
   "source": [
    " EXERCISE: Inverse filter (LECTURE 04, Slide 33)\n",
    " (1) Apply windowing and zero-padding to the sweep to create the\n",
    " measurement signal. Implement the windowing in fade.m, and zero-padding\n",
    " in padZeros.m\n",
    " (2) Construct the inverse filter for the measurement signal (use the\n",
    " getInverse.m template).\n",
    " (3) Plot the inverse filter time and frequency domains.\n",
    " (4) Apply the inverse filter to the original sweep.\n",
    "## USER PARAMETERS"
   ]
  },
  {
   "cell_type": "code",
   "execution_count": 3,
   "metadata": {},
   "outputs": [],
   "source": [
    "fs = 48000; % Sampling frequency\n",
    "Tsweep = 1; % Sweep duration\n",
    "f0 = 1; % Start frequency\n",
    "f1 = fs/2; % Stop frequency\n",
    "Tsilence = 1; % Silence duration\n",
    "Tin = 2E-3; % Fade-in duration\n",
    "Tout = 1E-4; % Fade-out duration"
   ]
  },
  {
   "cell_type": "markdown",
   "metadata": {},
   "source": [
    " Select linear or exponential frequency increase"
   ]
  },
  {
   "cell_type": "code",
   "execution_count": 4,
   "metadata": {},
   "outputs": [],
   "source": [
    "isExp = true;"
   ]
  },
  {
   "cell_type": "markdown",
   "metadata": {},
   "source": [
    "## CREATE SIGNALS\n",
    " \n",
    " Generate the measurement signal"
   ]
  },
  {
   "cell_type": "code",
   "execution_count": 8,
   "metadata": {},
   "outputs": [],
   "source": [
    "s_exp = genMeasSig( Tsweep, fs, f0, f1, Tsilence, Tin, Tout, isExp);"
   ]
  },
  {
   "cell_type": "markdown",
   "metadata": {},
   "source": [
    "plot(s_exp(1:Tin*fs*400))\n",
    " Create the inverse filter\n",
    "\n",
    " Implement the following function using the provided template."
   ]
  },
  {
   "cell_type": "code",
   "execution_count": 7,
   "metadata": {},
   "outputs": [],
   "source": [
    "[hinv, Hinv] = getInverse(s_exp);"
   ]
  },
  {
   "cell_type": "markdown",
   "metadata": {},
   "source": [
    " Investigate the inverse filter by looking at the time signal, the\n",
    " magnitude spectrum, etc.\n",
    "plot(abs(hinv))\n",
    " What happens if the sweep signal does not span the entire frequency range?\n",
    " Apply the inverse filter to the original sweep"
   ]
  },
  {
   "cell_type": "code",
   "execution_count": 9,
   "metadata": {},
   "outputs": [
    {
     "data": {
      "image/png": "[encoded data removed]",
      "text/plain": [
       "<IPython.core.display.Image object>"
      ]
     },
     "metadata": {},
     "output_type": "display_data"
    }
   ],
   "source": [
    "res = conv(s_exp, hinv);\n",
    "figure\n",
    "plot(res)"
   ]
  },
  {
   "cell_type": "markdown",
   "metadata": {},
   "source": [
    "# Test_Black_Box.m"
   ]
  },
  {
   "cell_type": "code",
   "execution_count": 10,
   "metadata": {},
   "outputs": [],
   "source": [
    "clear\n",
    "close all\n",
    "clc"
   ]
  },
  {
   "cell_type": "markdown",
   "metadata": {},
   "source": [
    " Install subfolders"
   ]
  },
  {
   "cell_type": "code",
   "execution_count": null,
   "metadata": {},
   "outputs": [],
   "source": [
    "addpath signals\n",
    "addpath tools"
   ]
  },
  {
   "cell_type": "markdown",
   "metadata": {},
   "source": [
    " Reset seed of random generator to guarantee reproducibility"
   ]
  },
  {
   "cell_type": "code",
   "execution_count": null,
   "metadata": {},
   "outputs": [],
   "source": [
    "rng(0);"
   ]
  },
  {
   "cell_type": "markdown",
   "metadata": {},
   "source": [
    "## USER PARAMETERS\n",
    " \n",
    " \n",
    " Sampling frequency"
   ]
  },
  {
   "cell_type": "code",
   "execution_count": null,
   "metadata": {},
   "outputs": [],
   "source": [
    "fsHz = 48000;"
   ]
  },
  {
   "cell_type": "markdown",
   "metadata": {},
   "source": [
    " Source signal"
   ]
  },
  {
   "cell_type": "code",
   "execution_count": null,
   "metadata": {},
   "outputs": [],
   "source": [
    "fileName = 'speech@24kHz.wav';"
   ]
  },
  {
   "cell_type": "markdown",
   "metadata": {},
   "source": [
    " Select either 'system_a', 'system_b' or 'system_c'"
   ]
  },
  {
   "cell_type": "code",
   "execution_count": null,
   "metadata": {},
   "outputs": [],
   "source": [
    "preset = 'system_a';"
   ]
  },
  {
   "cell_type": "markdown",
   "metadata": {},
   "source": [
    "## CREATE SIGNALS\n",
    " \n",
    " \n",
    " Load source signal"
   ]
  },
  {
   "cell_type": "code",
   "execution_count": null,
   "metadata": {},
   "outputs": [],
   "source": [
    "x = readAudio(fileName,fsHz);"
   ]
  },
  {
   "cell_type": "markdown",
   "metadata": {},
   "source": [
    " Apply black box"
   ]
  },
  {
   "cell_type": "code",
   "execution_count": null,
   "metadata": {},
   "outputs": [],
   "source": [
    "y = blackBox(x,fsHz,preset);"
   ]
  },
  {
   "cell_type": "markdown",
   "metadata": {},
   "source": [
    "## PLOT RESULTS\n",
    " \n",
    " \n",
    " Show system input and output"
   ]
  },
  {
   "cell_type": "code",
   "execution_count": null,
   "metadata": {},
   "outputs": [],
   "source": [
    "figure;\n",
    "plot(x)\n",
    "hold on;\n",
    "plot(y)\n",
    "legend({'input' 'output'})\n",
    "title(strrep(preset,'_',' '))"
   ]
  },
  {
   "cell_type": "markdown",
   "metadata": {},
   "source": [
    " Play input and output sounds"
   ]
  },
  {
   "cell_type": "code",
   "execution_count": null,
   "metadata": {},
   "outputs": [],
   "source": [
    "if 0\n",
    "    soundsc(x,fsHz);\n",
    "    soundsc(y,fsHz);\n",
    "end"
   ]
  },
  {
   "cell_type": "markdown",
   "metadata": {},
   "source": [
    "# Lecture_04_Task_3.m"
   ]
  },
  {
   "cell_type": "markdown",
   "metadata": {},
   "source": [
    " Clear stuff"
   ]
  },
  {
   "cell_type": "code",
   "execution_count": null,
   "metadata": {},
   "outputs": [],
   "source": [
    "clear variables\n",
    "close all"
   ]
  },
  {
   "cell_type": "markdown",
   "metadata": {},
   "source": [
    " Install subfolders"
   ]
  },
  {
   "cell_type": "code",
   "execution_count": null,
   "metadata": {},
   "outputs": [],
   "source": [
    "addpath tools"
   ]
  },
  {
   "cell_type": "markdown",
   "metadata": {},
   "source": [
    " EXERCISE: Recovering the IR (LECTURE 04, Slide 34)\n",
    " (1) Create the function getIR.m that returns the IR of system given its\n",
    " output to the measurement signal and the inverse filter.\n",
    " (2) Check the 3 presets of the provided \"black box\" system\n",
    " (Test_Black_Box.m). Measure the IRs using your system.\n",
    " (3) Characterize the presets based on analyzing your measured IRs.\n",
    " User parameters"
   ]
  },
  {
   "cell_type": "code",
   "execution_count": null,
   "metadata": {},
   "outputs": [],
   "source": [
    "fs = 48000; % Sampling frequency\n",
    "Tsweep = 1; % Sweep duration\n",
    "f0 = 10; % Start frequency\n",
    "f1 = fs/2; % Stop frequency\n",
    "Tsilence = 1; % Silence duration\n",
    "Tin = 2E-3; % Fade-in duration\n",
    "Tout = 1E-4; % Fade-out duration"
   ]
  },
  {
   "cell_type": "markdown",
   "metadata": {},
   "source": [
    " Select linear or exponential frequency increase"
   ]
  },
  {
   "cell_type": "code",
   "execution_count": null,
   "metadata": {},
   "outputs": [],
   "source": [
    "isExp = true;"
   ]
  },
  {
   "cell_type": "markdown",
   "metadata": {},
   "source": [
    " Generate sweep signal"
   ]
  },
  {
   "cell_type": "code",
   "execution_count": null,
   "metadata": {},
   "outputs": [],
   "source": [
    "s_exp = genMeasSig(Tsweep,fs,f0,f1,Tsilence,Tin,Tout,isExp);"
   ]
  },
  {
   "cell_type": "markdown",
   "metadata": {},
   "source": [
    " Create the inverse filter"
   ]
  },
  {
   "cell_type": "code",
   "execution_count": null,
   "metadata": {},
   "outputs": [],
   "source": [
    "[hinv, Hinv] = getInverse(s_exp);"
   ]
  },
  {
   "cell_type": "markdown",
   "metadata": {},
   "source": [
    " Create a measurement system\n",
    " Implement the function below:"
   ]
  },
  {
   "cell_type": "code",
   "execution_count": null,
   "metadata": {},
   "outputs": [],
   "source": [
    "h = getIR(s_exp, Hinv);"
   ]
  },
  {
   "cell_type": "markdown",
   "metadata": {},
   "source": [
    " Investigate the black box system provided in blackBox.p (check Test_Black_Box.m)"
   ]
  },
  {
   "cell_type": "code",
   "execution_count": null,
   "metadata": {},
   "outputs": [],
   "source": [
    "bb = blackBox(s_exp, fs, 'system_b');\n",
    "bbh = getIR(bb, Hinv);\n",
    "plot(bbh)"
   ]
  },
  {
   "cell_type": "markdown",
   "metadata": {},
   "source": [
    "# Lecture_04_Task_1.m"
   ]
  },
  {
   "cell_type": "markdown",
   "metadata": {},
   "source": [
    " Clear stuff"
   ]
  },
  {
   "cell_type": "code",
   "execution_count": null,
   "metadata": {},
   "outputs": [],
   "source": [
    "clear variables\n",
    "close all"
   ]
  },
  {
   "cell_type": "markdown",
   "metadata": {},
   "source": [
    " Install subfolders"
   ]
  },
  {
   "cell_type": "code",
   "execution_count": null,
   "metadata": {},
   "outputs": [],
   "source": [
    "addpath tools"
   ]
  },
  {
   "cell_type": "markdown",
   "metadata": {},
   "source": [
    " EXERCISE: Exponential sweep (LECTURE 04, Slide 21)\n",
    "\n",
    " (1) Derive the expression for the exponential sweep\n",
    " (2) Extend the function genChirp.m to include exponential sweeps\n",
    " (3) Create a linear and an exponential chirp\n",
    " (4) Compare the two signals in the time, frequency and STFT domain\n",
    " w(t) = ae^{bt}\n",
    " a = w1\n",
    " b = ln(w2/w1)/T\n",
    "## USER PARAMETERS"
   ]
  },
  {
   "cell_type": "code",
   "execution_count": null,
   "metadata": {},
   "outputs": [],
   "source": [
    "fs = 48000; % Sampling frequency\n",
    "T = 1; % Sweep duration\n",
    "f0 = 10; % Start frequency\n",
    "f1 = fs/2; % Stop frequency\n",
    "phi0 = 0; % Phase offset"
   ]
  },
  {
   "cell_type": "markdown",
   "metadata": {},
   "source": [
    " Select linear or exponential frequency increase"
   ]
  },
  {
   "cell_type": "code",
   "execution_count": null,
   "metadata": {},
   "outputs": [],
   "source": [
    "isExp1 = false;\n",
    "isExp2 = true;"
   ]
  },
  {
   "cell_type": "markdown",
   "metadata": {},
   "source": [
    "## CREATE SIGNALS\n",
    " \n",
    " Create a linear sweep"
   ]
  },
  {
   "cell_type": "code",
   "execution_count": null,
   "metadata": {},
   "outputs": [],
   "source": [
    "linsig = genChirp(fs, f0, T, f1, phi0, false);"
   ]
  },
  {
   "cell_type": "markdown",
   "metadata": {},
   "source": [
    " Create a logarithmic sweep"
   ]
  },
  {
   "cell_type": "code",
   "execution_count": null,
   "metadata": {},
   "outputs": [],
   "source": [
    "logsig = genChirp(fs, f0, T, f1, phi0, true);"
   ]
  },
  {
   "cell_type": "markdown",
   "metadata": {},
   "source": [
    "## FREQUENCY ANALYSIS\n",
    " Calculate the magnitude spectra"
   ]
  },
  {
   "cell_type": "code",
   "execution_count": null,
   "metadata": {},
   "outputs": [],
   "source": [
    "linfft = abs(fft(linsig, numel(linsig)));\n",
    "logfft = abs(fft(logsig, numel(logsig)));"
   ]
  },
  {
   "cell_type": "markdown",
   "metadata": {},
   "source": [
    " Calculate the STFTs"
   ]
  },
  {
   "cell_type": "code",
   "execution_count": null,
   "metadata": {},
   "outputs": [],
   "source": [
    "linstft = abs(stft(linsig));\n",
    "logstft = abs(stft(logsig));"
   ]
  },
  {
   "cell_type": "markdown",
   "metadata": {},
   "source": [
    "## SHOW RESULTS\n",
    " \n",
    " Plot the time-domain signals"
   ]
  },
  {
   "cell_type": "code",
   "execution_count": null,
   "metadata": {},
   "outputs": [],
   "source": [
    "figure\n",
    "subplot(2,2,1)\n",
    "plot(linsig, 'DisplayName', 'Linear Chirp')\n",
    "hold on\n",
    "plot(logsig, 'DisplayName', 'Exponential Chirp')\n",
    "title('Time Domain')\n",
    "legend"
   ]
  },
  {
   "cell_type": "markdown",
   "metadata": {},
   "source": [
    " Plot the magnitude spectra"
   ]
  },
  {
   "cell_type": "code",
   "execution_count": null,
   "metadata": {},
   "outputs": [],
   "source": [
    "subplot(2,2,2)\n",
    "plot(mag2db(linfft(1:numel(linfft)/2)), 'DisplayName', 'Linear Chirp')\n",
    "hold on\n",
    "plot(mag2db(logfft(1:numel(linfft)/2)), 'DisplayName', 'Exponential Chirp')\n",
    "title('Frequency Domain')\n",
    "legend"
   ]
  },
  {
   "cell_type": "markdown",
   "metadata": {},
   "source": [
    " Plot the STFTs"
   ]
  },
  {
   "cell_type": "code",
   "execution_count": null,
   "metadata": {},
   "outputs": [],
   "source": [
    "subplot(2,2,3)\n",
    "title('Linear Chirp STFT')"
   ]
  },
  {
   "cell_type": "markdown",
   "metadata": {},
   "source": [
    "image(linstft)"
   ]
  },
  {
   "cell_type": "code",
   "execution_count": null,
   "metadata": {},
   "outputs": [],
   "source": [
    "specgram(linsig)\n",
    "title('Time-Frequency (Linear)')\n",
    "subplot(2,2,4)\n",
    "title('Exponential Chirp STFT')"
   ]
  },
  {
   "cell_type": "markdown",
   "metadata": {},
   "source": [
    "image(logstft)"
   ]
  },
  {
   "cell_type": "code",
   "execution_count": null,
   "metadata": {},
   "outputs": [],
   "source": [
    "specgram(logsig)\n",
    "title('Time-Frequency (Exponential)')"
   ]
  }
 ],
 "metadata": {
  "kernelspec": {
   "display_name": "Octave",
   "language": "octave",
   "name": "octave"
  },
  "language_info": {
   "file_extension": ".m",
   "help_links": [
    {
     "text": "GNU Octave",
     "url": "https://www.gnu.org/software/octave/support.html"
    },
    {
     "text": "Octave Kernel",
     "url": "https://github.com/Calysto/octave_kernel"
    },
    {
     "text": "MetaKernel Magics",
     "url": "https://github.com/calysto/metakernel/blob/master/metakernel/magics/README.md"
    }
   ],
   "mimetype": "text/x-octave",
   "name": "octave",
   "version": "4.4.0"
  },
  "widgets": {
   "application/vnd.jupyter.widget-state+json": {
    "state": {},
    "version_major": 2,
    "version_minor": 0
   }
  }
 },
 "nbformat": 4,
 "nbformat_minor": 4
}
