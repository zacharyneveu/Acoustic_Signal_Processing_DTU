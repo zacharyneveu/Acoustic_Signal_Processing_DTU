{
 "cells": [
  {
   "cell_type": "markdown",
   "metadata": {},
   "source": [
    "# Exercise 1"
   ]
  },
  {
   "cell_type": "code",
   "execution_count": 2,
   "metadata": {},
   "outputs": [],
   "source": [
    "clear\n",
    "close all\n",
    "clc"
   ]
  },
  {
   "cell_type": "markdown",
   "metadata": {},
   "source": [
    " Install subfolders"
   ]
  },
  {
   "cell_type": "code",
   "execution_count": 3,
   "metadata": {},
   "outputs": [],
   "source": [
    "addpath tools\n",
    "addpath signals"
   ]
  },
  {
   "cell_type": "markdown",
   "metadata": {},
   "source": [
    " EXERCISE: Aliasing (LECTURE 01, SLIDE 22 - 24)\n",
    " \twrite a function genChirp.m \n",
    " \tinitialize user parameters (e.g. sampling frequency, chirp parameters,\n",
    "   decimation factors ... etc)  \n",
    " \tcreate a chirp signal x\n",
    " \tdownsample x using various decimation factors (D = 1, 2 and 4) and\n",
    "   listen to the resulting signals \n",
    " \tpreprocess x with an FIR filter (b = fir1(31,0.95/D)) prior to\n",
    "   downsampling and listen to the resulting signals\n",
    " \trepeat the previous two points using a speech signal\n",
    " USER PARAMETERS"
   ]
  },
  {
   "cell_type": "code",
   "execution_count": 4,
   "metadata": {},
   "outputs": [],
   "source": [
    "fs = 44100;\n",
    "minf = 100;\n",
    "maxf = 20000;"
   ]
  },
  {
   "cell_type": "markdown",
   "metadata": {},
   "source": [
    "## CREATE CHIRP SIGNAL"
   ]
  },
  {
   "cell_type": "code",
   "execution_count": 5,
   "metadata": {},
   "outputs": [],
   "source": [
    "chrp = dsp.Chirp('SweepDirection', 'Unidirectional',...\n",
    "    'TargetFrequency', maxf,...\n",
    "    'InitialFrequency', minf,...\n",
    "    'TargetTime', 1,...\n",
    "    'SweepTime', 1,...\n",
    "    'SamplesPerFrame', 44100,...\n",
    "    'SampleRate', fs);\n",
    "    \n",
    "chrp_data = (step(chrp))';"
   ]
  },
  {
   "cell_type": "markdown",
   "metadata": {},
   "source": [
    " ITERATE ACROSS DECIMATION FACTORS"
   ]
  },
  {
   "cell_type": "code",
   "execution_count": 10,
   "metadata": {},
   "outputs": [],
   "source": [
    "clear\n",
    "close all\n",
    "clc"
   ]
  },
  {
   "cell_type": "markdown",
   "metadata": {},
   "source": [
    " Install subfolders"
   ]
  },
  {
   "cell_type": "code",
   "execution_count": null,
   "metadata": {},
   "outputs": [],
   "source": [
    "addpath tools\n",
    "addpath signals"
   ]
  },
  {
   "cell_type": "markdown",
   "metadata": {},
   "source": [
    " EXERCISE: Uniform quantization (LECTURE 01, SLIDE 36)\n",
    " \twrite a function quantize.m \n",
    " \tinitialize user parameters (e.g. number of bits)  \n",
    " \tload and normalize a speech signal x such that its maximum is 1\n",
    " \tperform quantization \n",
    " \tlisten to the quantized signal \n",
    " USER PARAMETERS"
   ]
  },
  {
   "cell_type": "code",
   "execution_count": 11,
   "metadata": {},
   "outputs": [],
   "source": [
    "nBits = 12;\n",
    "range = [-1, 1];"
   ]
  },
  {
   "cell_type": "markdown",
   "metadata": {},
   "source": [
    " CREATE SIGNAL"
   ]
  },
  {
   "cell_type": "code",
   "execution_count": 6,
   "metadata": {},
   "outputs": [],
   "source": [
    "[a, fs] = readAudio('signals/speech@24kHz.wav');"
   ]
  },
  {
   "cell_type": "markdown",
   "metadata": {},
   "source": [
    "# PERFORM QUANTIZATION"
   ]
  },
  {
   "cell_type": "markdown",
   "metadata": {},
   "source": [
    " Install subfolders"
   ]
  },
  {
   "cell_type": "code",
   "execution_count": 7,
   "metadata": {},
   "outputs": [
    {
     "name": "stdout",
     "output_type": "stream",
     "text": [
      "Error: File: /home/zach/Documents/Courses/adsp/ex/lecture_01_exercises/quantize.m Line: 1 Column: 53\n",
      "Incorrect use of '=' operator. To assign a value to a variable, use '='. To compare values for equality, use '=='.\n"
     ]
    }
   ],
   "source": [
    "quantize(a, 5, [-1, 1])"
   ]
  },
  {
   "cell_type": "code",
   "execution_count": 11,
   "metadata": {},
   "outputs": [],
   "source": [
    "edit quantize.m"
   ]
  },
  {
   "cell_type": "code",
   "execution_count": null,
   "metadata": {},
   "outputs": [],
   "source": []
  }
 ],
 "metadata": {
  "kernelspec": {
   "display_name": "MATLAB",
   "language": "matlab",
   "name": "imatlab"
  },
  "language_info": {
   "codemirror_mode": "octave",
   "file_extension": ".m",
   "mimetype": "text/x-matlab",
   "name": "matlab",
   "nbconvert_exporter": "imatlab._exporter.MatlabExporter",
   "pygments_lexer": "matlab",
   "version": "9.6.0.1072779 (R2019a)"
  }
 },
 "nbformat": 4,
 "nbformat_minor": 2
}
