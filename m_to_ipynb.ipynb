{
 "cells": [
  {
   "cell_type": "code",
   "execution_count": 1,
   "metadata": {},
   "outputs": [],
   "source": [
    "import nbformat as nbf\n",
    "import os"
   ]
  },
  {
   "cell_type": "code",
   "execution_count": 10,
   "metadata": {},
   "outputs": [],
   "source": [
    "path = 'lecture_02_exercises/'\n",
    "fs = os.listdir(path)\n",
    "fs = [i for i in fs if i.endswith('.m')]"
   ]
  },
  {
   "cell_type": "code",
   "execution_count": 18,
   "metadata": {},
   "outputs": [],
   "source": [
    "of = \"lecture_02_exercises/exercise_02.ipynb\""
   ]
  },
  {
   "cell_type": "code",
   "execution_count": 21,
   "metadata": {},
   "outputs": [],
   "source": [
    "def process_comment(comment):\n",
    "    comment = comment.strip(\"%\")+\"\\n\"\n",
    "    if comment.isupper():\n",
    "        comment = f'##{comment}'\n",
    "    return comment"
   ]
  },
  {
   "cell_type": "code",
   "execution_count": 26,
   "metadata": {},
   "outputs": [],
   "source": [
    "nb = nbf.v4.new_notebook()\n",
    "for file in fs:\n",
    "    with open(path+file, encoding='latin1') as f:\n",
    "        lines = f.readlines()\n",
    "        lines = [l.encode('ascii', errors='ignore').decode() for l in lines]\n",
    "        last  = \"\"\n",
    "        current = \"\"\n",
    "        nb['cells'].append(nbf.v4.new_markdown_cell(f'# {file}'))\n",
    "        for line in lines:\n",
    "            line = line.strip(\"\\n\")\n",
    "            # print(f'\"{line}\"')\n",
    "            if line.startswith('%'):\n",
    "                if last == \"code\":\n",
    "                    # print(f'writing code cell: {current}')\n",
    "                    nb['cells'].append(nbf.v4.new_code_cell(current.rstrip()))\n",
    "                    current = \"\"\n",
    "                # print(process_comment(line))\n",
    "                current += process_comment(line)\n",
    "                last = \"comment\"\n",
    "            elif line: # code cell\n",
    "                if last == \"comment\":\n",
    "                    # print(f'writing markdown cell: {current}')\n",
    "                    nb['cells'].append(nbf.v4.new_markdown_cell(current.rstrip()))\n",
    "                    current = \"\"\n",
    "                current += line+\"\\n\"\n",
    "                last = \"code\"\n",
    "            else:\n",
    "                pass\n",
    "                #print(\"skipping\")\n",
    "        if last == \"comment\":\n",
    "            nb['cells'].append(nbf.v4.new_markdown_cell(current.rstrip()))\n",
    "        elif last == \"code\":\n",
    "            nb['cells'].append(nbf.v4.new_code_cell(current.rstrip()))\n",
    "            \n",
    "                \n",
    "with open(of, 'w+') as outfile:\n",
    "    nbf.write(nb, outfile)"
   ]
  },
  {
   "cell_type": "code",
   "execution_count": 46,
   "metadata": {},
   "outputs": [],
   "source": []
  },
  {
   "cell_type": "code",
   "execution_count": null,
   "metadata": {},
   "outputs": [],
   "source": []
  }
 ],
 "metadata": {
  "kernelspec": {
   "display_name": "Python 3",
   "language": "python",
   "name": "python3"
  },
  "language_info": {
   "codemirror_mode": {
    "name": "ipython",
    "version": 3
   },
   "file_extension": ".py",
   "mimetype": "text/x-python",
   "name": "python",
   "nbconvert_exporter": "python",
   "pygments_lexer": "ipython3",
   "version": "3.7.1"
  }
 },
 "nbformat": 4,
 "nbformat_minor": 2
}
